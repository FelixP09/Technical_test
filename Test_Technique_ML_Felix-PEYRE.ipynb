{
 "cells": [
  {
   "cell_type": "markdown",
   "metadata": {},
   "source": [
    "# Part I : Quel(le) data scientist êtes-vous ?\n",
    "## Contexte de l’analyse\n",
    "\n",
    "Elu métier le plus sexy par la Harvard Business Review en octobre 2012, le data scientist représente un profil rare qui exige de nombreuses compétences.\n",
    "\n",
    "A partir d'un dataset Aquila, vous réaliserez :\n",
    "- un clustering non supervisé afin d'identifier 2 groupes de profils techniques distinctes\n",
    "- une prédiction des profils dont le métier n'est pas labellisé\n",
    "\n",
    "\n",
    "## Données\n",
    "data.csv contient 6 variables : \n",
    "    - 'Entreprise' correspond à une liste d'entreprises fictive\n",
    "    - 'Metier' correspond au métier parmi data scientist, lead data scientist, data engineer et data architecte\n",
    "    - 'Technologies' correspond aux compétences maîtrisées par le profil\n",
    "    - 'Diplome' correspond à son niveau scolaire (Bac, Master, PhD,...)\n",
    "    - 'Experience' correspond au nombre d'années d'expériences\n",
    "    - 'Ville' correspond au lieu de travail\n",
    "    \n",
    "\n",
    "\n",
    "## Répondez aux questions \n",
    "\n",
    "Bonne chance!"
   ]
  },
  {
   "cell_type": "code",
   "execution_count": 1,
   "metadata": {},
   "outputs": [],
   "source": [
    "# Import des libraries classique (numpy, pandas, ...)\n",
    "import pandas as pd\n",
    "import numpy as np\n",
    "import re\n",
    "import sklearn as sk\n",
    "import seaborn as sb\n",
    "from matplotlib import pyplot as plt\n",
    "plt.style.use('ggplot')"
   ]
  },
  {
   "cell_type": "markdown",
   "metadata": {},
   "source": [
    "### 1) Importer le tableau de données dans un dataframe "
   ]
  },
  {
   "cell_type": "code",
   "execution_count": 2,
   "metadata": {},
   "outputs": [],
   "source": [
    "# Import du dataframe \"data.csv\"\n",
    "df = pd.read_csv('data.csv')"
   ]
  },
  {
   "cell_type": "code",
   "execution_count": 3,
   "metadata": {},
   "outputs": [
    {
     "data": {
      "text/html": [
       "<div>\n",
       "<style scoped>\n",
       "    .dataframe tbody tr th:only-of-type {\n",
       "        vertical-align: middle;\n",
       "    }\n",
       "\n",
       "    .dataframe tbody tr th {\n",
       "        vertical-align: top;\n",
       "    }\n",
       "\n",
       "    .dataframe thead th {\n",
       "        text-align: right;\n",
       "    }\n",
       "</style>\n",
       "<table border=\"1\" class=\"dataframe\">\n",
       "  <thead>\n",
       "    <tr style=\"text-align: right;\">\n",
       "      <th></th>\n",
       "      <th>Entreprise</th>\n",
       "      <th>Metier</th>\n",
       "      <th>Technologies</th>\n",
       "      <th>Diplome</th>\n",
       "      <th>Experience</th>\n",
       "      <th>Ville</th>\n",
       "    </tr>\n",
       "  </thead>\n",
       "  <tbody>\n",
       "    <tr>\n",
       "      <th>0</th>\n",
       "      <td>Sanofi</td>\n",
       "      <td>Data scientist</td>\n",
       "      <td>Matlab/Python/Pyspark/Scikit-learn/Tensorflow</td>\n",
       "      <td>Master</td>\n",
       "      <td>1</td>\n",
       "      <td>Paris</td>\n",
       "    </tr>\n",
       "    <tr>\n",
       "      <th>1</th>\n",
       "      <td>Massachusetts General Hospital(MGH)</td>\n",
       "      <td>Data architecte</td>\n",
       "      <td>Python/Java/Scala/MongoDB</td>\n",
       "      <td>Master</td>\n",
       "      <td>3</td>\n",
       "      <td>Marseille</td>\n",
       "    </tr>\n",
       "    <tr>\n",
       "      <th>2</th>\n",
       "      <td>Delve</td>\n",
       "      <td>Lead data scientist</td>\n",
       "      <td>SPSS/SQL/Teradata/R/Python/Tensorflow/scikit-l...</td>\n",
       "      <td>Master</td>\n",
       "      <td>3</td>\n",
       "      <td>Nantes</td>\n",
       "    </tr>\n",
       "    <tr>\n",
       "      <th>3</th>\n",
       "      <td>Ann &amp; Robert H. Lurie Children’s Hospital of C...</td>\n",
       "      <td>Data scientist</td>\n",
       "      <td>C/C++/Java/Python</td>\n",
       "      <td>Master</td>\n",
       "      <td>1,5</td>\n",
       "      <td>Marseille</td>\n",
       "    </tr>\n",
       "    <tr>\n",
       "      <th>4</th>\n",
       "      <td>Arm</td>\n",
       "      <td>Data scientist</td>\n",
       "      <td>Matlab/Python/C++/numpy/Tensorflow/scikit-learn</td>\n",
       "      <td>Phd</td>\n",
       "      <td>NaN</td>\n",
       "      <td>Bordeaux</td>\n",
       "    </tr>\n",
       "  </tbody>\n",
       "</table>\n",
       "</div>"
      ],
      "text/plain": [
       "                                          Entreprise               Metier  \\\n",
       "0                                             Sanofi       Data scientist   \n",
       "1                Massachusetts General Hospital(MGH)      Data architecte   \n",
       "2                                              Delve  Lead data scientist   \n",
       "3  Ann & Robert H. Lurie Children’s Hospital of C...       Data scientist   \n",
       "4                                                Arm       Data scientist   \n",
       "\n",
       "                                        Technologies Diplome Experience  \\\n",
       "0      Matlab/Python/Pyspark/Scikit-learn/Tensorflow  Master          1   \n",
       "1                          Python/Java/Scala/MongoDB  Master          3   \n",
       "2  SPSS/SQL/Teradata/R/Python/Tensorflow/scikit-l...  Master          3   \n",
       "3                                  C/C++/Java/Python  Master        1,5   \n",
       "4    Matlab/Python/C++/numpy/Tensorflow/scikit-learn     Phd        NaN   \n",
       "\n",
       "       Ville  \n",
       "0      Paris  \n",
       "1  Marseille  \n",
       "2     Nantes  \n",
       "3  Marseille  \n",
       "4   Bordeaux  "
      ]
     },
     "execution_count": 3,
     "metadata": {},
     "output_type": "execute_result"
    }
   ],
   "source": [
    "df.head()"
   ]
  },
  {
   "cell_type": "markdown",
   "metadata": {},
   "source": [
    "### 2) Combien y a t-il d'observations dans ce dataset? Y a t-il des valeurs manquantes? "
   ]
  },
  {
   "cell_type": "code",
   "execution_count": 4,
   "metadata": {},
   "outputs": [
    {
     "data": {
      "text/plain": [
       "(9582, 6)"
      ]
     },
     "execution_count": 4,
     "metadata": {},
     "output_type": "execute_result"
    }
   ],
   "source": [
    "df.shape"
   ]
  },
  {
   "cell_type": "markdown",
   "metadata": {},
   "source": [
    "Le dataset contient 9582 observations "
   ]
  },
  {
   "cell_type": "code",
   "execution_count": 5,
   "metadata": {},
   "outputs": [
    {
     "data": {
      "text/plain": [
       "Entreprise      17\n",
       "Metier          19\n",
       "Technologies     0\n",
       "Diplome          0\n",
       "Experience      94\n",
       "Ville            0\n",
       "dtype: int64"
      ]
     },
     "execution_count": 5,
     "metadata": {},
     "output_type": "execute_result"
    }
   ],
   "source": [
    "df.isnull().sum()"
   ]
  },
  {
   "cell_type": "markdown",
   "metadata": {},
   "source": [
    "Le dataset contient des valeurs manquantes : 17 valeurs manquantes pour la variable \"Entreprise\", 19 valeurs manquantes pour la variable \"Metier\" et 94 valeurs manquantes pour la variable \"Exprerience\"."
   ]
  },
  {
   "cell_type": "markdown",
   "metadata": {},
   "source": [
    "### 3) Réaliser l'imputation des valeurs manquantes pour la variable \"Experience\" avec : \n",
    "- la valeur médiane pour les data scientists\n",
    "- la valeur moyenne pour les data engineers"
   ]
  },
  {
   "cell_type": "markdown",
   "metadata": {},
   "source": [
    "Regardons comment se répartissent les valeurs manquantes de la variable \"Experience\" selon les différents métiers"
   ]
  },
  {
   "cell_type": "code",
   "execution_count": 6,
   "metadata": {},
   "outputs": [
    {
     "data": {
      "text/plain": [
       "Data scientist         32\n",
       "Data architecte        23\n",
       "Data engineer          20\n",
       "Lead data scientist    19\n",
       "Name: Metier, dtype: int64"
      ]
     },
     "execution_count": 6,
     "metadata": {},
     "output_type": "execute_result"
    }
   ],
   "source": [
    "df[df[\"Experience\"].isnull()==True].Metier.value_counts()"
   ]
  },
  {
   "cell_type": "markdown",
   "metadata": {},
   "source": [
    "Chaque métier contient des valeurs manquantes pour la variable 'Expérience'."
   ]
  },
  {
   "cell_type": "code",
   "execution_count": 7,
   "metadata": {},
   "outputs": [
    {
     "data": {
      "text/plain": [
       "count     9488\n",
       "unique      21\n",
       "top        1,5\n",
       "freq      1023\n",
       "Name: Experience, dtype: object"
      ]
     },
     "execution_count": 7,
     "metadata": {},
     "output_type": "execute_result"
    }
   ],
   "source": [
    "df.Experience.describe()"
   ]
  },
  {
   "cell_type": "markdown",
   "metadata": {},
   "source": [
    "La variable \"Expérience\" est du type \"object\". Puisqu'il s'agit d'une variable continue, elle doit être convertie en type \"float\" afin de permettre le calcul de sa moyenne ou de sa médiane.\n",
    "De plus, les décimales sont séparées par une virgule qui doit être remplacée par un point."
   ]
  },
  {
   "cell_type": "code",
   "execution_count": 8,
   "metadata": {},
   "outputs": [],
   "source": [
    "# Uniformisation de la variable \"Experience\" au type \"str\"\n",
    "df.Experience = df.Experience.astype(str)\n",
    "\n",
    "# Remplacement des \",\" par des \".\"\n",
    "df['Experience'] = [x.replace(\",\",\".\") for x in df['Experience']]\n",
    "\n",
    "# Conversion de la variable \"Experience\" au type \"float\"\n",
    "df.Experience = df.Experience.astype(float)"
   ]
  },
  {
   "cell_type": "markdown",
   "metadata": {},
   "source": [
    "Il est désormais possible d'explorer la variable \"Experience\" avec des indicateurs de position ou de dispersion au sein des différentes catégories de métier :"
   ]
  },
  {
   "cell_type": "code",
   "execution_count": 9,
   "metadata": {},
   "outputs": [
    {
     "data": {
      "text/html": [
       "<div>\n",
       "<style scoped>\n",
       "    .dataframe tbody tr th:only-of-type {\n",
       "        vertical-align: middle;\n",
       "    }\n",
       "\n",
       "    .dataframe tbody tr th {\n",
       "        vertical-align: top;\n",
       "    }\n",
       "\n",
       "    .dataframe thead tr th {\n",
       "        text-align: left;\n",
       "    }\n",
       "\n",
       "    .dataframe thead tr:last-of-type th {\n",
       "        text-align: right;\n",
       "    }\n",
       "</style>\n",
       "<table border=\"1\" class=\"dataframe\">\n",
       "  <thead>\n",
       "    <tr>\n",
       "      <th></th>\n",
       "      <th colspan=\"3\" halign=\"left\">Experience</th>\n",
       "    </tr>\n",
       "    <tr>\n",
       "      <th></th>\n",
       "      <th>median</th>\n",
       "      <th>mean</th>\n",
       "      <th>std</th>\n",
       "    </tr>\n",
       "    <tr>\n",
       "      <th>Metier</th>\n",
       "      <th></th>\n",
       "      <th></th>\n",
       "      <th></th>\n",
       "    </tr>\n",
       "  </thead>\n",
       "  <tbody>\n",
       "    <tr>\n",
       "      <th>Data architecte</th>\n",
       "      <td>2.5</td>\n",
       "      <td>3.000476</td>\n",
       "      <td>2.723786</td>\n",
       "    </tr>\n",
       "    <tr>\n",
       "      <th>Data engineer</th>\n",
       "      <td>2.5</td>\n",
       "      <td>2.984959</td>\n",
       "      <td>2.778586</td>\n",
       "    </tr>\n",
       "    <tr>\n",
       "      <th>Data scientist</th>\n",
       "      <td>2.0</td>\n",
       "      <td>2.243282</td>\n",
       "      <td>2.527040</td>\n",
       "    </tr>\n",
       "    <tr>\n",
       "      <th>Lead data scientist</th>\n",
       "      <td>3.5</td>\n",
       "      <td>3.965261</td>\n",
       "      <td>2.693818</td>\n",
       "    </tr>\n",
       "  </tbody>\n",
       "</table>\n",
       "</div>"
      ],
      "text/plain": [
       "                    Experience                    \n",
       "                        median      mean       std\n",
       "Metier                                            \n",
       "Data architecte            2.5  3.000476  2.723786\n",
       "Data engineer              2.5  2.984959  2.778586\n",
       "Data scientist             2.0  2.243282  2.527040\n",
       "Lead data scientist        3.5  3.965261  2.693818"
      ]
     },
     "execution_count": 9,
     "metadata": {},
     "output_type": "execute_result"
    }
   ],
   "source": [
    "df.groupby('Metier').agg({'Experience':[np.median, np.mean, np.std]})"
   ]
  },
  {
   "cell_type": "markdown",
   "metadata": {},
   "source": [
    "Les données manquantes de la variables \"Experience\" peuvent maintenant être remplacées par la médiane pour les Data scientists et par la moyenne pour les Data engineers."
   ]
  },
  {
   "cell_type": "code",
   "execution_count": 10,
   "metadata": {},
   "outputs": [],
   "source": [
    "# Data scientists\n",
    "\n",
    "# Création d'un filtre pour un métier donné\n",
    "mask_ds = (df['Metier']=='Data scientist')\n",
    "\n",
    "# Calucul de la médiane de la variable \"Experience\" pour un métier donné\n",
    "ds_med = df.loc[mask_ds, 'Experience'].median()\n",
    "\n",
    "# Imputation des valeurs manquantes de la variable \"Experience\" pour un métier donné\n",
    "df.loc[mask_ds, 'Experience'] = df.loc[mask_ds, 'Experience'].fillna(ds_med)"
   ]
  },
  {
   "cell_type": "code",
   "execution_count": 11,
   "metadata": {},
   "outputs": [],
   "source": [
    "# Data engineers\n",
    "\n",
    "# Création d'un filtre pour un métier donné\n",
    "mask_de = (df['Metier']=='Data engineer') \n",
    "\n",
    "# Calucul de la moyenne de la variable \"Experience\" pour un métier donné\n",
    "de_mean = round(df.loc[mask_de, 'Experience'].mean(),1)\n",
    "\n",
    "# Imputation des valeurs manquantes de la variable \"Experience\" pour un métier donné\n",
    "df.loc[mask_de, 'Experience'] = df.loc[mask_de, 'Experience'].fillna(de_mean)"
   ]
  },
  {
   "cell_type": "markdown",
   "metadata": {},
   "source": [
    "En prévision de la question 9, les données manquantes de la variable \"Experience\" pour les métiers \"Lead data scientist\" et \"Data architecte\" sont également traitées."
   ]
  },
  {
   "cell_type": "code",
   "execution_count": 12,
   "metadata": {},
   "outputs": [],
   "source": [
    "# Data architectes\n",
    "\n",
    "mask_da = (df['Metier']=='Data architecte') \n",
    "da_mean = round(df.loc[mask_da, 'Experience'].mean(),1)\n",
    "df.loc[mask_da, 'Experience'] = df.loc[mask_da, 'Experience'].fillna(da_mean)\n",
    "\n",
    "# Lead data scientists\n",
    "\n",
    "mask_lds = (df['Metier']=='Lead data scientist') \n",
    "lds_mean = round(df.loc[mask_lds, 'Experience'].mean(),1)\n",
    "df.loc[mask_lds, 'Experience'] = df.loc[mask_lds, 'Experience'].fillna(lds_mean)"
   ]
  },
  {
   "cell_type": "code",
   "execution_count": 13,
   "metadata": {},
   "outputs": [
    {
     "data": {
      "text/plain": [
       "Entreprise      17\n",
       "Metier          19\n",
       "Technologies     0\n",
       "Diplome          0\n",
       "Experience       0\n",
       "Ville            0\n",
       "dtype: int64"
      ]
     },
     "execution_count": 13,
     "metadata": {},
     "output_type": "execute_result"
    }
   ],
   "source": [
    "df.isnull().sum()"
   ]
  },
  {
   "cell_type": "markdown",
   "metadata": {},
   "source": [
    "Les 94 valeurs manquantes de la variable \"Experience\" ont bien été traitées."
   ]
  },
  {
   "cell_type": "markdown",
   "metadata": {},
   "source": [
    "### 4) Combien d'années d'expériences ont, en moyenne, chacun des profils : le data scientist, le lead data scientist et le data engineer en moyenne?"
   ]
  },
  {
   "cell_type": "code",
   "execution_count": 14,
   "metadata": {},
   "outputs": [
    {
     "data": {
      "text/html": [
       "<div>\n",
       "<style scoped>\n",
       "    .dataframe tbody tr th:only-of-type {\n",
       "        vertical-align: middle;\n",
       "    }\n",
       "\n",
       "    .dataframe tbody tr th {\n",
       "        vertical-align: top;\n",
       "    }\n",
       "\n",
       "    .dataframe thead th {\n",
       "        text-align: right;\n",
       "    }\n",
       "</style>\n",
       "<table border=\"1\" class=\"dataframe\">\n",
       "  <thead>\n",
       "    <tr style=\"text-align: right;\">\n",
       "      <th></th>\n",
       "      <th>Experience</th>\n",
       "    </tr>\n",
       "    <tr>\n",
       "      <th>Metier</th>\n",
       "      <th></th>\n",
       "    </tr>\n",
       "  </thead>\n",
       "  <tbody>\n",
       "    <tr>\n",
       "      <th>Data architecte</th>\n",
       "      <td>3.000471</td>\n",
       "    </tr>\n",
       "    <tr>\n",
       "      <th>Data engineer</th>\n",
       "      <td>2.985087</td>\n",
       "    </tr>\n",
       "    <tr>\n",
       "      <th>Data scientist</th>\n",
       "      <td>2.241268</td>\n",
       "    </tr>\n",
       "    <tr>\n",
       "      <th>Lead data scientist</th>\n",
       "      <td>3.965798</td>\n",
       "    </tr>\n",
       "  </tbody>\n",
       "</table>\n",
       "</div>"
      ],
      "text/plain": [
       "                     Experience\n",
       "Metier                         \n",
       "Data architecte        3.000471\n",
       "Data engineer          2.985087\n",
       "Data scientist         2.241268\n",
       "Lead data scientist    3.965798"
      ]
     },
     "execution_count": 14,
     "metadata": {},
     "output_type": "execute_result"
    }
   ],
   "source": [
    "# Calcul de la moyenne du nombre d'années d'expérience par métier\n",
    "\n",
    "df.groupby('Metier').mean()"
   ]
  },
  {
   "cell_type": "markdown",
   "metadata": {},
   "source": [
    "### 5) Faire la représentation graphique de votre choix afin de comparer le nombre moyen d'années d'expériences pour chaque métier"
   ]
  },
  {
   "cell_type": "code",
   "execution_count": 15,
   "metadata": {},
   "outputs": [
    {
     "data": {
      "text/plain": [
       "<Figure size 720x720 with 0 Axes>"
      ]
     },
     "metadata": {},
     "output_type": "display_data"
    },
    {
     "data": {
      "image/png": "[encoded data removed]",
      "text/plain": [
       "<Figure size 360x360 with 1 Axes>"
      ]
     },
     "metadata": {},
     "output_type": "display_data"
    }
   ],
   "source": [
    "plt.figure( figsize= (10,10) ) \n",
    "sb.catplot(data=df,\n",
    "           x='Metier',\n",
    "           y='Experience',\n",
    "           kind = 'bar',\n",
    "          )\n",
    "plt.xticks(rotation=45, ha='right')\n",
    "plt.title(\"Nombre d'années moyen d'expérience selon le métier\")\n",
    "plt.ylabel(\"Expérience moyenne (annnées)\");"
   ]
  },
  {
   "cell_type": "markdown",
   "metadata": {},
   "source": [
    "Sans surprise, les Lead data scientists sont en moyenne les plus expérimentés. Les Data architectes et les Data engineers ont en moyenne 3 ans d'expérience. Les Data scientists sont les moins expérimentés avec une moyenne de 2,2 années d'expérience."
   ]
  },
  {
   "cell_type": "markdown",
   "metadata": {},
   "source": [
    "### 6) Transformer la variable continue 'Experience' en une nouvelle variable catégorielle 'Exp_label' à 4 modalités: débutant, confirmé, avancé et expert\n",
    "- Veuillez expliquer votre choix du règle de transformation.  "
   ]
  },
  {
   "cell_type": "markdown",
   "metadata": {},
   "source": [
    "La variable \"Experience\" va être transformée en une variable catégorielle contenant 4 modalités déterminées par les quartiles. Ansi chacune des 4 modalités comportera le même nombre d'occurences."
   ]
  },
  {
   "cell_type": "code",
   "execution_count": 16,
   "metadata": {},
   "outputs": [
    {
     "data": {
      "text/html": [
       "<div>\n",
       "<style scoped>\n",
       "    .dataframe tbody tr th:only-of-type {\n",
       "        vertical-align: middle;\n",
       "    }\n",
       "\n",
       "    .dataframe tbody tr th {\n",
       "        vertical-align: top;\n",
       "    }\n",
       "\n",
       "    .dataframe thead th {\n",
       "        text-align: right;\n",
       "    }\n",
       "</style>\n",
       "<table border=\"1\" class=\"dataframe\">\n",
       "  <thead>\n",
       "    <tr style=\"text-align: right;\">\n",
       "      <th></th>\n",
       "      <th>Experience</th>\n",
       "    </tr>\n",
       "  </thead>\n",
       "  <tbody>\n",
       "    <tr>\n",
       "      <th>count</th>\n",
       "      <td>9582.000000</td>\n",
       "    </tr>\n",
       "    <tr>\n",
       "      <th>mean</th>\n",
       "      <td>2.814652</td>\n",
       "    </tr>\n",
       "    <tr>\n",
       "      <th>std</th>\n",
       "      <td>2.703889</td>\n",
       "    </tr>\n",
       "    <tr>\n",
       "      <th>min</th>\n",
       "      <td>0.000000</td>\n",
       "    </tr>\n",
       "    <tr>\n",
       "      <th>25%</th>\n",
       "      <td>1.000000</td>\n",
       "    </tr>\n",
       "    <tr>\n",
       "      <th>50%</th>\n",
       "      <td>2.000000</td>\n",
       "    </tr>\n",
       "    <tr>\n",
       "      <th>75%</th>\n",
       "      <td>3.500000</td>\n",
       "    </tr>\n",
       "    <tr>\n",
       "      <th>max</th>\n",
       "      <td>21.000000</td>\n",
       "    </tr>\n",
       "  </tbody>\n",
       "</table>\n",
       "</div>"
      ],
      "text/plain": [
       "        Experience\n",
       "count  9582.000000\n",
       "mean      2.814652\n",
       "std       2.703889\n",
       "min       0.000000\n",
       "25%       1.000000\n",
       "50%       2.000000\n",
       "75%       3.500000\n",
       "max      21.000000"
      ]
     },
     "execution_count": 16,
     "metadata": {},
     "output_type": "execute_result"
    }
   ],
   "source": [
    "df.describe()"
   ]
  },
  {
   "cell_type": "code",
   "execution_count": 17,
   "metadata": {},
   "outputs": [],
   "source": [
    "# Création d'une nouvelle variable \"Exp_label\" qui comportera 4 modalités reparties selon les quartiles.\n",
    "\n",
    "df['Exp_label']= pd.qcut(df.Experience,q=4,labels=[\"Débutant\",\"Confirmé\",\"avancé\",\"Expert\"])\n",
    "\n",
    "# Supréssion de la variable continue \"Experience\"\n",
    "\n",
    "df.drop('Experience',axis=1, inplace=True)"
   ]
  },
  {
   "cell_type": "code",
   "execution_count": 18,
   "metadata": {},
   "outputs": [
    {
     "data": {
      "text/html": [
       "<div>\n",
       "<style scoped>\n",
       "    .dataframe tbody tr th:only-of-type {\n",
       "        vertical-align: middle;\n",
       "    }\n",
       "\n",
       "    .dataframe tbody tr th {\n",
       "        vertical-align: top;\n",
       "    }\n",
       "\n",
       "    .dataframe thead th {\n",
       "        text-align: right;\n",
       "    }\n",
       "</style>\n",
       "<table border=\"1\" class=\"dataframe\">\n",
       "  <thead>\n",
       "    <tr style=\"text-align: right;\">\n",
       "      <th></th>\n",
       "      <th>Entreprise</th>\n",
       "      <th>Metier</th>\n",
       "      <th>Technologies</th>\n",
       "      <th>Diplome</th>\n",
       "      <th>Ville</th>\n",
       "      <th>Exp_label</th>\n",
       "    </tr>\n",
       "  </thead>\n",
       "  <tbody>\n",
       "    <tr>\n",
       "      <th>0</th>\n",
       "      <td>Sanofi</td>\n",
       "      <td>Data scientist</td>\n",
       "      <td>Matlab/Python/Pyspark/Scikit-learn/Tensorflow</td>\n",
       "      <td>Master</td>\n",
       "      <td>Paris</td>\n",
       "      <td>Débutant</td>\n",
       "    </tr>\n",
       "    <tr>\n",
       "      <th>1</th>\n",
       "      <td>Massachusetts General Hospital(MGH)</td>\n",
       "      <td>Data architecte</td>\n",
       "      <td>Python/Java/Scala/MongoDB</td>\n",
       "      <td>Master</td>\n",
       "      <td>Marseille</td>\n",
       "      <td>avancé</td>\n",
       "    </tr>\n",
       "    <tr>\n",
       "      <th>2</th>\n",
       "      <td>Delve</td>\n",
       "      <td>Lead data scientist</td>\n",
       "      <td>SPSS/SQL/Teradata/R/Python/Tensorflow/scikit-l...</td>\n",
       "      <td>Master</td>\n",
       "      <td>Nantes</td>\n",
       "      <td>avancé</td>\n",
       "    </tr>\n",
       "    <tr>\n",
       "      <th>3</th>\n",
       "      <td>Ann &amp; Robert H. Lurie Children’s Hospital of C...</td>\n",
       "      <td>Data scientist</td>\n",
       "      <td>C/C++/Java/Python</td>\n",
       "      <td>Master</td>\n",
       "      <td>Marseille</td>\n",
       "      <td>Confirmé</td>\n",
       "    </tr>\n",
       "    <tr>\n",
       "      <th>4</th>\n",
       "      <td>Arm</td>\n",
       "      <td>Data scientist</td>\n",
       "      <td>Matlab/Python/C++/numpy/Tensorflow/scikit-learn</td>\n",
       "      <td>Phd</td>\n",
       "      <td>Bordeaux</td>\n",
       "      <td>Confirmé</td>\n",
       "    </tr>\n",
       "  </tbody>\n",
       "</table>\n",
       "</div>"
      ],
      "text/plain": [
       "                                          Entreprise               Metier  \\\n",
       "0                                             Sanofi       Data scientist   \n",
       "1                Massachusetts General Hospital(MGH)      Data architecte   \n",
       "2                                              Delve  Lead data scientist   \n",
       "3  Ann & Robert H. Lurie Children’s Hospital of C...       Data scientist   \n",
       "4                                                Arm       Data scientist   \n",
       "\n",
       "                                        Technologies Diplome      Ville  \\\n",
       "0      Matlab/Python/Pyspark/Scikit-learn/Tensorflow  Master      Paris   \n",
       "1                          Python/Java/Scala/MongoDB  Master  Marseille   \n",
       "2  SPSS/SQL/Teradata/R/Python/Tensorflow/scikit-l...  Master     Nantes   \n",
       "3                                  C/C++/Java/Python  Master  Marseille   \n",
       "4    Matlab/Python/C++/numpy/Tensorflow/scikit-learn     Phd   Bordeaux   \n",
       "\n",
       "  Exp_label  \n",
       "0  Débutant  \n",
       "1    avancé  \n",
       "2    avancé  \n",
       "3  Confirmé  \n",
       "4  Confirmé  "
      ]
     },
     "execution_count": 18,
     "metadata": {},
     "output_type": "execute_result"
    }
   ],
   "source": [
    "df.head()"
   ]
  },
  {
   "cell_type": "markdown",
   "metadata": {},
   "source": [
    "### 7) Quelles sont les 5 technologies les plus utilisées? Faites un graphique"
   ]
  },
  {
   "cell_type": "markdown",
   "metadata": {},
   "source": [
    "La variables \"Technologies\" comprend les noms des technologies maîtrisées, séparées par un \"/\".\n",
    "Il est possible d'extraire les noms des technolologies, de les séparer et de les regrouper dans une liste unique afin de pouvoir les comptabiliser."
   ]
  },
  {
   "cell_type": "code",
   "execution_count": 19,
   "metadata": {},
   "outputs": [],
   "source": [
    "# Création d'une liste qui contiendra toutes les valeurs séparées de la variable \"Technologies\".\n",
    "\n",
    "liste_tech_totale = []\n",
    "\n",
    "# Création d'une boucle où t correspond à la variable \"Technologies\" pour un profil donné.\n",
    "\n",
    "for t in df.Technologies:\n",
    "    \n",
    "    # Création d'une liste l contenant les noms des technologies séparées du profil t, en séparant les noms au niveau des \"/\".\n",
    "    # les noms sont convertis en minuscules pour éviter les doublons, ex : \"Scikit-learn\" et \"scikit-learn\"\n",
    "    \n",
    "    l = re.split(\"/\",t.lower())\n",
    "    \n",
    "    # la liste l est ajoutée à la \"liste_tech_totale\" en utilisant la methode extend() pour ne pas créer de sous-listes.\n",
    "    \n",
    "    liste_tech_totale.extend(l)"
   ]
  },
  {
   "cell_type": "code",
   "execution_count": 20,
   "metadata": {},
   "outputs": [
    {
     "name": "stdout",
     "output_type": "stream",
     "text": [
      "Le dataset contient 43712 technologies. \n",
      "\n",
      "Réparties en 57 valeurs uniques. \n",
      "\n",
      "Qui sont : \n",
      "\n",
      " ['' 'ai' 'anglais' 'aws' 'big data' 'c' 'c++' 'cassandra' 'deep learning'\n",
      " 'docker' 'elasticsearch' 'excel' 'gnu' 'hadoop' 'hadoop(hdfs)' 'hbase'\n",
      " 'hdfs' 'hive' 'java' 'kafka' 'kibana' 'linux' 'machine learning'\n",
      " 'map-reduce' 'mariadb' 'matlab' 'matplotlib' 'microsoft azure' 'mongodb'\n",
      " 'mysql' 'nosq' 'nosql' 'numpy' 'oracle' 'perl' 'pig' 'postgresql'\n",
      " 'pycharm' 'pyspark' 'python' 'r' 'redshift' 'ruby' 'sas' 'scala'\n",
      " 'scikit-learn' 'scoring' 'spark' 'spss' 'sql' 'tableau' 'tensorflow'\n",
      " 'teradata' 'vba' 'vertica' 'windows' 'yarn']\n"
     ]
    }
   ],
   "source": [
    "print(\"Le dataset contient\",len(liste_tech_totale),\"technologies.\",\"\\n\")\n",
    "print(\"Réparties en\", len(np.unique(liste_tech_totale)),\"valeurs uniques.\",\"\\n\")\n",
    "print(\"Qui sont :\",\"\\n\"*2, np.unique(liste_tech_totale))"
   ]
  },
  {
   "cell_type": "markdown",
   "metadata": {},
   "source": [
    "On remarque que l'une des valeur unique est vide : \"\", ces valeurs doivent être supprimées de la \"liste_tech_totale\"."
   ]
  },
  {
   "cell_type": "code",
   "execution_count": 21,
   "metadata": {},
   "outputs": [],
   "source": [
    "# Création d'une boucle : soit e un élément de la 'liste_tech_totale'\n",
    "\n",
    "for e in liste_tech_totale:\n",
    "    \n",
    "    # Création de la condition : l'élément de la liste comporte zero caractère\n",
    "    \n",
    "    if len(e)==0:\n",
    "        \n",
    "        # Suppression de l'élément de la liste si la condition est vérifiée.\n",
    "        \n",
    "        liste_tech_totale.pop(liste_tech_totale.index(e))"
   ]
  },
  {
   "cell_type": "code",
   "execution_count": 22,
   "metadata": {},
   "outputs": [],
   "source": [
    "# Transforamtion de la \"liste_tech_totale\" en pd.Series\n",
    "\n",
    "df_tech_total = pd.DataFrame(liste_tech_totale, columns = [\"Technologies\"])"
   ]
  },
  {
   "cell_type": "code",
   "execution_count": 23,
   "metadata": {},
   "outputs": [],
   "source": [
    "# Création d'une liste des valeurs uniques des technologies du dataset.\n",
    "# Utilisée à la question 8\n",
    "\n",
    "tech_labels = list(pd.unique(df_tech_total.Technologies))"
   ]
  },
  {
   "cell_type": "markdown",
   "metadata": {},
   "source": [
    "Il est désomais possible de compter le nombre d'occurences de chaque technologie et de les classer :"
   ]
  },
  {
   "cell_type": "code",
   "execution_count": 24,
   "metadata": {},
   "outputs": [
    {
     "data": {
      "text/plain": [
       "Technologies\n",
       "python          6627\n",
       "r               4374\n",
       "sql             2581\n",
       "java            1719\n",
       "hadoop          1589\n",
       "dtype: int64"
      ]
     },
     "execution_count": 24,
     "metadata": {},
     "output_type": "execute_result"
    }
   ],
   "source": [
    "df_tech_total.value_counts().sort_values(ascending=False).head()"
   ]
  },
  {
   "cell_type": "markdown",
   "metadata": {},
   "source": [
    "Pyton, R, SQL, Java et hadoop sont les technologies les plus utilisées."
   ]
  },
  {
   "cell_type": "code",
   "execution_count": 25,
   "metadata": {},
   "outputs": [
    {
     "name": "stderr",
     "output_type": "stream",
     "text": [
      "C:\\Users\\peyre\\anaconda3\\envs\\appli\\lib\\site-packages\\seaborn\\_decorators.py:36: FutureWarning: Pass the following variable as a keyword arg: x. From version 0.12, the only valid positional argument will be `data`, and passing other arguments without an explicit keyword will result in an error or misinterpretation.\n",
      "  warnings.warn(\n"
     ]
    },
    {
     "data": {
      "image/png": "[encoded data removed]",
      "text/plain": [
       "<Figure size 1152x576 with 1 Axes>"
      ]
     },
     "metadata": {},
     "output_type": "display_data"
    }
   ],
   "source": [
    "plt.figure( figsize= (16, 8)) \n",
    "sb.countplot(df_tech_total.Technologies,\n",
    "            order = df_tech_total.Technologies.value_counts().index)\n",
    "plt.title(\"Nombre d'occurences par technologie\")\n",
    "plt.xticks(rotation=45,ha='right');"
   ]
  },
  {
   "cell_type": "markdown",
   "metadata": {},
   "source": [
    "L'observation graphique du nombre d'occurences par technologie nous permet bien d'identifier Python, R, SQL, Java et Hadoop comme les technologies les plus utilisées."
   ]
  },
  {
   "cell_type": "markdown",
   "metadata": {},
   "source": [
    "### 8) Réaliser une méthode de clustering non supervisée de votre choix pour faire apparaître 2 clusters que vous jugerez pertinents. Donnez les caractéristiques de chacun des clusters.\n",
    "-  Justifier la performance de votre algorithme grace à une métrique.\n",
    "-  Interpréter votre resultat.  "
   ]
  },
  {
   "cell_type": "markdown",
   "metadata": {},
   "source": [
    "Afin de repartir les profils techniques en deux clusters nous allons devoir créer une matrice où chaque colonne correspond à une technologie et chaque ligne correspond à un profil, avec pour valeur 1 si la technologie est maîtrisée ou 0 sinon."
   ]
  },
  {
   "cell_type": "code",
   "execution_count": 26,
   "metadata": {},
   "outputs": [],
   "source": [
    "# Création d'une liste contenant une sous-liste de technologies par profil.\n",
    "\n",
    "\n",
    "# Création de la liste\n",
    "liste_tech =[]\n",
    "\n",
    "# On répete la methode utilisée à la question 7 en utilisant cette fois append() pour créer une sous-liste par profil.\n",
    "\n",
    "for x in df.Technologies:\n",
    "    l = re.split(\"/\",x.lower())\n",
    "    liste_tech.append(l)"
   ]
  },
  {
   "cell_type": "code",
   "execution_count": 27,
   "metadata": {},
   "outputs": [
    {
     "name": "stdout",
     "output_type": "stream",
     "text": [
      "(9582, 56)\n"
     ]
    }
   ],
   "source": [
    "# Création d'une matrice remplie de zéros comportant un nombre de colonnes égal au nombre de technologies (valeurs uniques) et \n",
    "# un nombre de lignes égal au nombre de profils.\n",
    "\n",
    "tech_array = np.zeros((len(liste_tech),len(tech_labels)))\n",
    "\n",
    "# x correspond à l'index de la ligne de la matrice\n",
    "x = -1\n",
    "\n",
    "# création d'une boucle où i correspond à une sous-liste de la \"liste_tech\"\n",
    "\n",
    "for i in liste_tech:\n",
    "    \n",
    "    # Mise à jour de l'index de la ligne de ma matrice\n",
    "    x +=1\n",
    "    \n",
    "    # Réinitialisation de l'index de la colonne de la matrice\n",
    "    y = -1\n",
    "    \n",
    "    # Création d'une boucle dans la boucle, où t est une technologie de la liste des valeurs uniques des technologie.\n",
    "    \n",
    "    for t in tech_labels:\n",
    "        \n",
    "        # Mise à jour de l'index de la colonne de la matrice\n",
    "        \n",
    "        y+=1\n",
    "        \n",
    "        # Création de la condition : la technologie t est présente dans la sous-liste i \n",
    "        \n",
    "        if t in i:\n",
    "            \n",
    "            # Modification de la valeur dans la matrice si la condition est vérifée.\n",
    "            \n",
    "            tech_array[x,y]=1\n",
    "            \n",
    "print(tech_array.shape)"
   ]
  },
  {
   "cell_type": "code",
   "execution_count": 28,
   "metadata": {},
   "outputs": [],
   "source": [
    "# Transformation de la matrice en Dataframe et ajout des labels des colonnes (noms des technologies)\n",
    "\n",
    "df_tech = pd.DataFrame(data=tech_array,columns=tech_labels)"
   ]
  },
  {
   "cell_type": "code",
   "execution_count": 29,
   "metadata": {},
   "outputs": [
    {
     "name": "stdout",
     "output_type": "stream",
     "text": [
      "(9582, 56)\n"
     ]
    },
    {
     "data": {
      "text/html": [
       "<div>\n",
       "<style scoped>\n",
       "    .dataframe tbody tr th:only-of-type {\n",
       "        vertical-align: middle;\n",
       "    }\n",
       "\n",
       "    .dataframe tbody tr th {\n",
       "        vertical-align: top;\n",
       "    }\n",
       "\n",
       "    .dataframe thead th {\n",
       "        text-align: right;\n",
       "    }\n",
       "</style>\n",
       "<table border=\"1\" class=\"dataframe\">\n",
       "  <thead>\n",
       "    <tr style=\"text-align: right;\">\n",
       "      <th></th>\n",
       "      <th>matlab</th>\n",
       "      <th>python</th>\n",
       "      <th>pyspark</th>\n",
       "      <th>scikit-learn</th>\n",
       "      <th>tensorflow</th>\n",
       "      <th>java</th>\n",
       "      <th>scala</th>\n",
       "      <th>mongodb</th>\n",
       "      <th>spss</th>\n",
       "      <th>sql</th>\n",
       "      <th>...</th>\n",
       "      <th>mysql</th>\n",
       "      <th>cassandra</th>\n",
       "      <th>nosql</th>\n",
       "      <th>matplotlib</th>\n",
       "      <th>map-reduce</th>\n",
       "      <th>pig</th>\n",
       "      <th>hbase</th>\n",
       "      <th>windows</th>\n",
       "      <th>nosq</th>\n",
       "      <th>hadoop(hdfs)</th>\n",
       "    </tr>\n",
       "  </thead>\n",
       "  <tbody>\n",
       "    <tr>\n",
       "      <th>0</th>\n",
       "      <td>1.0</td>\n",
       "      <td>1.0</td>\n",
       "      <td>1.0</td>\n",
       "      <td>1.0</td>\n",
       "      <td>1.0</td>\n",
       "      <td>0.0</td>\n",
       "      <td>0.0</td>\n",
       "      <td>0.0</td>\n",
       "      <td>0.0</td>\n",
       "      <td>0.0</td>\n",
       "      <td>...</td>\n",
       "      <td>0.0</td>\n",
       "      <td>0.0</td>\n",
       "      <td>0.0</td>\n",
       "      <td>0.0</td>\n",
       "      <td>0.0</td>\n",
       "      <td>0.0</td>\n",
       "      <td>0.0</td>\n",
       "      <td>0.0</td>\n",
       "      <td>0.0</td>\n",
       "      <td>0.0</td>\n",
       "    </tr>\n",
       "    <tr>\n",
       "      <th>1</th>\n",
       "      <td>0.0</td>\n",
       "      <td>1.0</td>\n",
       "      <td>0.0</td>\n",
       "      <td>0.0</td>\n",
       "      <td>0.0</td>\n",
       "      <td>1.0</td>\n",
       "      <td>1.0</td>\n",
       "      <td>1.0</td>\n",
       "      <td>0.0</td>\n",
       "      <td>0.0</td>\n",
       "      <td>...</td>\n",
       "      <td>0.0</td>\n",
       "      <td>0.0</td>\n",
       "      <td>0.0</td>\n",
       "      <td>0.0</td>\n",
       "      <td>0.0</td>\n",
       "      <td>0.0</td>\n",
       "      <td>0.0</td>\n",
       "      <td>0.0</td>\n",
       "      <td>0.0</td>\n",
       "      <td>0.0</td>\n",
       "    </tr>\n",
       "    <tr>\n",
       "      <th>2</th>\n",
       "      <td>0.0</td>\n",
       "      <td>1.0</td>\n",
       "      <td>0.0</td>\n",
       "      <td>1.0</td>\n",
       "      <td>1.0</td>\n",
       "      <td>0.0</td>\n",
       "      <td>0.0</td>\n",
       "      <td>0.0</td>\n",
       "      <td>1.0</td>\n",
       "      <td>1.0</td>\n",
       "      <td>...</td>\n",
       "      <td>0.0</td>\n",
       "      <td>0.0</td>\n",
       "      <td>0.0</td>\n",
       "      <td>0.0</td>\n",
       "      <td>0.0</td>\n",
       "      <td>0.0</td>\n",
       "      <td>0.0</td>\n",
       "      <td>0.0</td>\n",
       "      <td>0.0</td>\n",
       "      <td>0.0</td>\n",
       "    </tr>\n",
       "    <tr>\n",
       "      <th>3</th>\n",
       "      <td>0.0</td>\n",
       "      <td>1.0</td>\n",
       "      <td>0.0</td>\n",
       "      <td>0.0</td>\n",
       "      <td>0.0</td>\n",
       "      <td>1.0</td>\n",
       "      <td>0.0</td>\n",
       "      <td>0.0</td>\n",
       "      <td>0.0</td>\n",
       "      <td>0.0</td>\n",
       "      <td>...</td>\n",
       "      <td>0.0</td>\n",
       "      <td>0.0</td>\n",
       "      <td>0.0</td>\n",
       "      <td>0.0</td>\n",
       "      <td>0.0</td>\n",
       "      <td>0.0</td>\n",
       "      <td>0.0</td>\n",
       "      <td>0.0</td>\n",
       "      <td>0.0</td>\n",
       "      <td>0.0</td>\n",
       "    </tr>\n",
       "    <tr>\n",
       "      <th>4</th>\n",
       "      <td>1.0</td>\n",
       "      <td>1.0</td>\n",
       "      <td>0.0</td>\n",
       "      <td>1.0</td>\n",
       "      <td>1.0</td>\n",
       "      <td>0.0</td>\n",
       "      <td>0.0</td>\n",
       "      <td>0.0</td>\n",
       "      <td>0.0</td>\n",
       "      <td>0.0</td>\n",
       "      <td>...</td>\n",
       "      <td>0.0</td>\n",
       "      <td>0.0</td>\n",
       "      <td>0.0</td>\n",
       "      <td>0.0</td>\n",
       "      <td>0.0</td>\n",
       "      <td>0.0</td>\n",
       "      <td>0.0</td>\n",
       "      <td>0.0</td>\n",
       "      <td>0.0</td>\n",
       "      <td>0.0</td>\n",
       "    </tr>\n",
       "  </tbody>\n",
       "</table>\n",
       "<p>5 rows × 56 columns</p>\n",
       "</div>"
      ],
      "text/plain": [
       "   matlab  python  pyspark  scikit-learn  tensorflow  java  scala  mongodb  \\\n",
       "0     1.0     1.0      1.0           1.0         1.0   0.0    0.0      0.0   \n",
       "1     0.0     1.0      0.0           0.0         0.0   1.0    1.0      1.0   \n",
       "2     0.0     1.0      0.0           1.0         1.0   0.0    0.0      0.0   \n",
       "3     0.0     1.0      0.0           0.0         0.0   1.0    0.0      0.0   \n",
       "4     1.0     1.0      0.0           1.0         1.0   0.0    0.0      0.0   \n",
       "\n",
       "   spss  sql  ...  mysql  cassandra  nosql  matplotlib  map-reduce  pig  \\\n",
       "0   0.0  0.0  ...    0.0        0.0    0.0         0.0         0.0  0.0   \n",
       "1   0.0  0.0  ...    0.0        0.0    0.0         0.0         0.0  0.0   \n",
       "2   1.0  1.0  ...    0.0        0.0    0.0         0.0         0.0  0.0   \n",
       "3   0.0  0.0  ...    0.0        0.0    0.0         0.0         0.0  0.0   \n",
       "4   0.0  0.0  ...    0.0        0.0    0.0         0.0         0.0  0.0   \n",
       "\n",
       "   hbase  windows  nosq  hadoop(hdfs)  \n",
       "0    0.0      0.0   0.0           0.0  \n",
       "1    0.0      0.0   0.0           0.0  \n",
       "2    0.0      0.0   0.0           0.0  \n",
       "3    0.0      0.0   0.0           0.0  \n",
       "4    0.0      0.0   0.0           0.0  \n",
       "\n",
       "[5 rows x 56 columns]"
      ]
     },
     "execution_count": 29,
     "metadata": {},
     "output_type": "execute_result"
    }
   ],
   "source": [
    "print(df_tech.shape)\n",
    "df_tech.head()"
   ]
  },
  {
   "cell_type": "markdown",
   "metadata": {},
   "source": [
    "Une autre alternative pour obtenir la même matrice plus rapidement aurait été d'utiliser l'algorithme CountVectorizer sur la colonne \"Technologies\" du df de départ en prennant soin de bien paramétrer le paramètre 'token_pattern' de manière à couper uniquement sur les '/' tout en conservant les traits d'union, les espaces, les parenthèses et les \"+\" :"
   ]
  },
  {
   "cell_type": "code",
   "execution_count": 30,
   "metadata": {},
   "outputs": [
    {
     "name": "stdout",
     "output_type": "stream",
     "text": [
      "(9582, 56)\n"
     ]
    }
   ],
   "source": [
    "# Solution alternative\n",
    "\n",
    "from sklearn.feature_extraction.text import CountVectorizer\n",
    "\n",
    "vectorizer = CountVectorizer(token_pattern = r\"[a-z-\\(\\)\\+ ]+\")\n",
    "m = vectorizer.fit_transform(df.Technologies).todense()\n",
    "\n",
    "df_tech2 = pd.DataFrame(data=m, columns = vectorizer.get_feature_names())\n",
    "print(df_tech2.shape)"
   ]
  },
  {
   "cell_type": "markdown",
   "metadata": {},
   "source": [
    "Nous pouvons maintenant utiliser un algorithme de clustering non supervisé tel que KMeans pour faire apparaitre deux clusters"
   ]
  },
  {
   "cell_type": "code",
   "execution_count": 31,
   "metadata": {},
   "outputs": [],
   "source": [
    "from sklearn.cluster import KMeans\n",
    "\n",
    "# Création d'un modèle KMeans à 2 clusters\n",
    "clf = KMeans(n_clusters = 2)\n",
    "\n",
    "# Entrainement du modèle à partir du df_tech\n",
    "clf.fit(df_tech)\n",
    "\n",
    "# Création de la liste des labels calculés\n",
    "labels = clf.labels_ "
   ]
  },
  {
   "cell_type": "code",
   "execution_count": 32,
   "metadata": {},
   "outputs": [],
   "source": [
    "# Ajout d'une nouvelle variable \"Cluster\" au df.\n",
    "\n",
    "df['Cluster']=labels"
   ]
  },
  {
   "cell_type": "markdown",
   "metadata": {},
   "source": [
    "Le coefficient de Silhouette permet d'évaluer la performance d'un clutering. Il est compris entre -1 et 1."
   ]
  },
  {
   "cell_type": "code",
   "execution_count": 33,
   "metadata": {},
   "outputs": [
    {
     "name": "stdout",
     "output_type": "stream",
     "text": [
      "0.2386483980009762\n"
     ]
    }
   ],
   "source": [
    "from sklearn.metrics import silhouette_score\n",
    "\n",
    "s_score = silhouette_score(df_tech, labels, metric='sqeuclidean')\n",
    "print(s_score)"
   ]
  },
  {
   "cell_type": "markdown",
   "metadata": {},
   "source": [
    "Le score obtenu est d'environ 0.24 ce qui montre que nos clusters sont pertinants bien qu'imparfaits."
   ]
  },
  {
   "cell_type": "code",
   "execution_count": 34,
   "metadata": {},
   "outputs": [
    {
     "name": "stderr",
     "output_type": "stream",
     "text": [
      "C:\\Users\\peyre\\anaconda3\\envs\\appli\\lib\\site-packages\\seaborn\\_decorators.py:36: FutureWarning: Pass the following variable as a keyword arg: x. From version 0.12, the only valid positional argument will be `data`, and passing other arguments without an explicit keyword will result in an error or misinterpretation.\n",
      "  warnings.warn(\n",
      "C:\\Users\\peyre\\anaconda3\\envs\\appli\\lib\\site-packages\\seaborn\\_decorators.py:36: FutureWarning: Pass the following variable as a keyword arg: x. From version 0.12, the only valid positional argument will be `data`, and passing other arguments without an explicit keyword will result in an error or misinterpretation.\n",
      "  warnings.warn(\n"
     ]
    },
    {
     "data": {
      "image/png": "[encoded data removed]",
      "text/plain": [
       "<Figure size 1440x504 with 2 Axes>"
      ]
     },
     "metadata": {},
     "output_type": "display_data"
    }
   ],
   "source": [
    "plt.figure( figsize= (20, 7)) \n",
    "plt.subplot(1,2,1)\n",
    "sb.countplot(df.Cluster)\n",
    "plt.title(\"Répartition des profils au sein des deux clusters\")\n",
    "plt.subplot(1,2,2)\n",
    "sb.countplot(df.Cluster, hue = df.Metier)\n",
    "plt.title(\"Répartion des différents métiers au sein des deux clusters\");"
   ]
  },
  {
   "cell_type": "markdown",
   "metadata": {},
   "source": [
    "Le cluster 1 comprend uniquement des Data scientists et des Lead Data scientists.\n",
    "Le cluster 0 comprend l'ensemble des Data engineers et des Data architectes ainsi qu'une petite proportion de Data scientists et de Lead data scientists.\n",
    "Ces résultats sont conformes à nos attentes et montrent que les Data scientists et les Lead data scientists maitrisent les mêmes technologies.\n",
    "Toutefois certains profils de Data scientists et de Lead data scientists, probablement très polyvalants, ont été regroupés avec les Data engineers et les Data architectes."
   ]
  },
  {
   "cell_type": "markdown",
   "metadata": {},
   "source": [
    "### 9) Réaliser la prédiction des métiers manquants dans la base de données par l'algorithme de votre choix\n",
    "-  Justifier la performance de votre algorithme grace à une métrique.\n",
    "-  Interpréter votre resultat.  "
   ]
  },
  {
   "cell_type": "markdown",
   "metadata": {},
   "source": [
    "Tout d'abord, interessons nous à la répartition des métiers au sein du dataset :"
   ]
  },
  {
   "cell_type": "code",
   "execution_count": 35,
   "metadata": {},
   "outputs": [
    {
     "data": {
      "image/png": "[encoded data removed]",
      "text/plain": [
       "<Figure size 648x648 with 1 Axes>"
      ]
     },
     "metadata": {},
     "output_type": "display_data"
    }
   ],
   "source": [
    "plt.figure(figsize =(9,9))\n",
    "plt.pie(df.Metier.value_counts(),\n",
    "       shadow = True, \n",
    "       autopct = lambda x: str(round(x,2))+\"%\", pctdistance = 0.6, \n",
    "       labels = df.Metier.value_counts().index,\n",
    "       textprops = {'color':'w','size':20,'weight':'bold'})\n",
    "plt.legend(loc = 2,fontsize = 10)\n",
    "plt.title('Répartition des métiers du dataset');"
   ]
  },
  {
   "cell_type": "markdown",
   "metadata": {},
   "source": [
    "Les data scientists sont sur-représentés tandis que les Lead data scientists sont sous-représentés.\n",
    "Le dataset est donc plutôt deséquilibré."
   ]
  },
  {
   "cell_type": "markdown",
   "metadata": {},
   "source": [
    "Doit-on conserver les variables \"Entreprise\", \"Diplome\" et \"Ville\" ?"
   ]
  },
  {
   "cell_type": "code",
   "execution_count": 36,
   "metadata": {},
   "outputs": [
    {
     "data": {
      "text/html": [
       "<div>\n",
       "<style scoped>\n",
       "    .dataframe tbody tr th:only-of-type {\n",
       "        vertical-align: middle;\n",
       "    }\n",
       "\n",
       "    .dataframe tbody tr th {\n",
       "        vertical-align: top;\n",
       "    }\n",
       "\n",
       "    .dataframe thead th {\n",
       "        text-align: right;\n",
       "    }\n",
       "</style>\n",
       "<table border=\"1\" class=\"dataframe\">\n",
       "  <thead>\n",
       "    <tr style=\"text-align: right;\">\n",
       "      <th></th>\n",
       "      <th>Entreprise</th>\n",
       "      <th>Diplome</th>\n",
       "      <th>Ville</th>\n",
       "    </tr>\n",
       "  </thead>\n",
       "  <tbody>\n",
       "    <tr>\n",
       "      <th>count</th>\n",
       "      <td>9565</td>\n",
       "      <td>9582</td>\n",
       "      <td>9582</td>\n",
       "    </tr>\n",
       "    <tr>\n",
       "      <th>unique</th>\n",
       "      <td>1382</td>\n",
       "      <td>4</td>\n",
       "      <td>14</td>\n",
       "    </tr>\n",
       "    <tr>\n",
       "      <th>top</th>\n",
       "      <td>Ball Aerospace</td>\n",
       "      <td>Master</td>\n",
       "      <td>Paris</td>\n",
       "    </tr>\n",
       "    <tr>\n",
       "      <th>freq</th>\n",
       "      <td>748</td>\n",
       "      <td>4971</td>\n",
       "      <td>2015</td>\n",
       "    </tr>\n",
       "  </tbody>\n",
       "</table>\n",
       "</div>"
      ],
      "text/plain": [
       "            Entreprise Diplome  Ville\n",
       "count             9565    9582   9582\n",
       "unique            1382       4     14\n",
       "top     Ball Aerospace  Master  Paris\n",
       "freq               748    4971   2015"
      ]
     },
     "execution_count": 36,
     "metadata": {},
     "output_type": "execute_result"
    }
   ],
   "source": [
    "df[['Entreprise','Diplome','Ville']].describe()"
   ]
  },
  {
   "cell_type": "markdown",
   "metadata": {},
   "source": [
    "La variable \"Diplome\" comporte 4 valeurs uniques ce qui la rend propice à la dichotomisation.\n",
    "En revanche la variable \"Entreprise\" comporte beaucoup trop de valeurs uniques, je décide donc de m'en dispenser.\n",
    "La variable \"Ville\" à un nombre raisonnable de valeurs uniques, je décide de la conserver."
   ]
  },
  {
   "cell_type": "code",
   "execution_count": 37,
   "metadata": {},
   "outputs": [],
   "source": [
    "# Création d'un nouveau dataframe regroupant le df de départ et le df_tech utilisé pour le clustering\n",
    "\n",
    "df_total = df.join(df_tech)\n",
    "\n",
    "#Suppression des colonnes \"Technologies\" et \"Entreprise\"\n",
    "\n",
    "df_total.drop((['Technologies','Entreprise']),axis=1,inplace=True)\n",
    "\n",
    "# Dichotomisation des variables \"Ville\", \"Exp_label\" et \"Diplome\"\n",
    "\n",
    "df_total = pd.get_dummies(df_total, columns = ['Ville','Exp_label','Diplome'])\n",
    "\n"
   ]
  },
  {
   "cell_type": "code",
   "execution_count": 38,
   "metadata": {},
   "outputs": [
    {
     "name": "stderr",
     "output_type": "stream",
     "text": [
      "C:\\Users\\peyre\\anaconda3\\envs\\appli\\lib\\site-packages\\pandas\\core\\frame.py:4305: SettingWithCopyWarning: \n",
      "A value is trying to be set on a copy of a slice from a DataFrame\n",
      "\n",
      "See the caveats in the documentation: https://pandas.pydata.org/pandas-docs/stable/user_guide/indexing.html#returning-a-view-versus-a-copy\n",
      "  return super().drop(\n"
     ]
    }
   ],
   "source": [
    "# Création d'un dataframe df_pred comportant les profils non labélisés\n",
    "\n",
    "df_pred = df_total[df_total['Metier'].isnull()== True]\n",
    "\n",
    "# Suppression de la colonne \"Metier\" non labelisée\n",
    "\n",
    "df_pred.drop('Metier',axis=1, inplace=True)"
   ]
  },
  {
   "cell_type": "code",
   "execution_count": 39,
   "metadata": {},
   "outputs": [],
   "source": [
    "# Suppression des profils non labélisés du df_total (les 19 dernières valeurs manquantes sont toutes des métiers)\n",
    "\n",
    "df_total = df_total.dropna()\n",
    "\n",
    "# Séparation des features et de la target\n",
    "\n",
    "data = df_total.drop('Metier',axis=1)\n",
    "target = df_total.Metier"
   ]
  },
  {
   "cell_type": "code",
   "execution_count": 40,
   "metadata": {},
   "outputs": [],
   "source": [
    "# Création des ensembles d'entrainement et de test.\n",
    "\n",
    "from sklearn.model_selection import train_test_split\n",
    "\n",
    "X_train, X_test, y_train, y_test = train_test_split(data,target, test_size=0.2, random_state=10)"
   ]
  },
  {
   "cell_type": "code",
   "execution_count": 41,
   "metadata": {},
   "outputs": [
    {
     "name": "stdout",
     "output_type": "stream",
     "text": [
      "LogisticRegression(max_iter=2000) : 0.893 +/- 0.003\n",
      "RandomForestClassifier() : 0.88 +/- 0.005\n",
      "SVC() : 0.892 +/- 0.006\n"
     ]
    }
   ],
   "source": [
    "# Comparaison de trois modèles de classification (Regression Logistique, SVM et Random Forest) par cross-validation\n",
    "\n",
    "\n",
    "from sklearn.model_selection import StratifiedKFold, cross_val_score\n",
    "from sklearn.svm import SVC\n",
    "from sklearn.ensemble import RandomForestClassifier\n",
    "from sklearn.linear_model import LogisticRegression\n",
    "\n",
    "#création des modeles\n",
    "\n",
    "clf_lr  = LogisticRegression(max_iter=2000)\n",
    "clf_rf  = RandomForestClassifier()\n",
    "clf_svc = SVC()\n",
    "\n",
    "# Création de sous-ensembles\n",
    "\n",
    "CV = StratifiedKFold(n_splits=3, shuffle=True, random_state = 10)\n",
    "\n",
    "# Création d'une boucle incluant les 3 modèles\n",
    "\n",
    "for clf in [clf_lr, clf_rf, clf_svc]:\n",
    "    \n",
    "    # Calcul des scores obtenus par cross-validation (un score par sous-ensemble)\n",
    "    \n",
    "    cv_score = cross_val_score(clf, X_train, y_train, cv = CV)\n",
    "    \n",
    "    # Calcul de la moyenne et de l'écart-type des score de chaque modèle\n",
    "    \n",
    "    print(clf,':',round(cv_score.mean(),3), \"+/-\",round(cv_score.std(),3))"
   ]
  },
  {
   "cell_type": "markdown",
   "metadata": {},
   "source": [
    "Les performances des trois modèles sont très proches. Je decide de poursuivre avec la regression logistique."
   ]
  },
  {
   "cell_type": "code",
   "execution_count": 42,
   "metadata": {},
   "outputs": [
    {
     "name": "stdout",
     "output_type": "stream",
     "text": [
      "Les meilleurs hyperparamètres sont : \n",
      " {'C': 3.1622776601683795, 'class_weight': None, 'solver': 'lbfgs'}\n"
     ]
    }
   ],
   "source": [
    "# Création d'un dictionnaire d'hyperparametres\n",
    "\n",
    "param_grid_lr  = {'solver': ['liblinear', 'lbfgs'],\n",
    "                   'C': np.logspace(-4,2,9),\n",
    "                 'class_weight' :['balanced',None] }\n",
    "\n",
    "\n",
    "\n",
    "from sklearn.model_selection import GridSearchCV\n",
    "\n",
    "# Création d'un modèle GridSearchCV pour identifier la meilleure combinaison d'hyperparamètres\n",
    "\n",
    "grid_clf = GridSearchCV(clf_lr, param_grid_lr, cv=3, refit =True)\n",
    "\n",
    "# Entrainement de la grille d'hyperparmètres\n",
    "\n",
    "grille = grid_clf.fit(X_train, y_train) \n",
    "\n",
    "# Selection des meilleurs hyperparamètres\n",
    "\n",
    "print(\"Les meilleurs hyperparamètres sont : \\n\",grid_clf.best_params_)\n",
    "\n",
    "# Prédiction des labels de l'ensemble de test\n",
    "\n",
    "y_pred = grid_clf.predict(X_test)"
   ]
  },
  {
   "cell_type": "code",
   "execution_count": 43,
   "metadata": {},
   "outputs": [
    {
     "name": "stdout",
     "output_type": "stream",
     "text": [
      "accuracy = 0.8902 \n",
      "\n",
      "                     precision    recall  f1-score   support\n",
      "\n",
      "    Data architecte       0.97      0.98      0.97       389\n",
      "      Data engineer       1.00      1.00      1.00       477\n",
      "     Data scientist       0.84      0.92      0.88       790\n",
      "Lead data scientist       0.68      0.47      0.55       257\n",
      "\n",
      "           accuracy                           0.89      1913\n",
      "          macro avg       0.87      0.84      0.85      1913\n",
      "       weighted avg       0.88      0.89      0.88      1913\n",
      " \n",
      "\n"
     ]
    },
    {
     "data": {
      "text/html": [
       "<div>\n",
       "<style scoped>\n",
       "    .dataframe tbody tr th:only-of-type {\n",
       "        vertical-align: middle;\n",
       "    }\n",
       "\n",
       "    .dataframe tbody tr th {\n",
       "        vertical-align: top;\n",
       "    }\n",
       "\n",
       "    .dataframe thead th {\n",
       "        text-align: right;\n",
       "    }\n",
       "</style>\n",
       "<table border=\"1\" class=\"dataframe\">\n",
       "  <thead>\n",
       "    <tr style=\"text-align: right;\">\n",
       "      <th>Predictions</th>\n",
       "      <th>Data architecte</th>\n",
       "      <th>Data engineer</th>\n",
       "      <th>Data scientist</th>\n",
       "      <th>Lead data scientist</th>\n",
       "    </tr>\n",
       "    <tr>\n",
       "      <th>Labels</th>\n",
       "      <th></th>\n",
       "      <th></th>\n",
       "      <th></th>\n",
       "      <th></th>\n",
       "    </tr>\n",
       "  </thead>\n",
       "  <tbody>\n",
       "    <tr>\n",
       "      <th>Data architecte</th>\n",
       "      <td>380</td>\n",
       "      <td>0</td>\n",
       "      <td>9</td>\n",
       "      <td>0</td>\n",
       "    </tr>\n",
       "    <tr>\n",
       "      <th>Data engineer</th>\n",
       "      <td>0</td>\n",
       "      <td>477</td>\n",
       "      <td>0</td>\n",
       "      <td>0</td>\n",
       "    </tr>\n",
       "    <tr>\n",
       "      <th>Data scientist</th>\n",
       "      <td>8</td>\n",
       "      <td>0</td>\n",
       "      <td>726</td>\n",
       "      <td>56</td>\n",
       "    </tr>\n",
       "    <tr>\n",
       "      <th>Lead data scientist</th>\n",
       "      <td>4</td>\n",
       "      <td>0</td>\n",
       "      <td>133</td>\n",
       "      <td>120</td>\n",
       "    </tr>\n",
       "  </tbody>\n",
       "</table>\n",
       "</div>"
      ],
      "text/plain": [
       "Predictions          Data architecte  Data engineer  Data scientist  \\\n",
       "Labels                                                                \n",
       "Data architecte                  380              0               9   \n",
       "Data engineer                      0            477               0   \n",
       "Data scientist                     8              0             726   \n",
       "Lead data scientist                4              0             133   \n",
       "\n",
       "Predictions          Lead data scientist  \n",
       "Labels                                    \n",
       "Data architecte                        0  \n",
       "Data engineer                          0  \n",
       "Data scientist                        56  \n",
       "Lead data scientist                  120  "
      ]
     },
     "execution_count": 43,
     "metadata": {},
     "output_type": "execute_result"
    }
   ],
   "source": [
    "from sklearn.metrics import classification_report\n",
    "\n",
    "# Calcul de l'accuracy\n",
    "\n",
    "score = grid_clf.score(X_test,y_test)\n",
    "print(\"accuracy =\", round(score,4),\"\\n\")\n",
    "\n",
    "# Calculs du score de rappel et du F1-score\n",
    "\n",
    "print(classification_report(y_test,y_pred),\"\\n\")\n",
    "\n",
    "# Création d'une matrice de confusion\n",
    "\n",
    "pd.crosstab(y_test,y_pred, rownames=['Labels'], colnames = ['Predictions'])"
   ]
  },
  {
   "cell_type": "markdown",
   "metadata": {},
   "source": [
    "Ce modèle de Regression Logistique permet d'identifier parfaitement les profils de Data engineers comme le montre la matrice de confusion et son f1-score de 1.\n",
    "Les Data architectes sont plutôt bien reconnus également. La principale source d'erreur se situe entre les Data scientists et les Lead data scientists. En effet, à en voir son score de rappel, plus de la moitié des Lead Data scientists n'ont pas été reconnus en tant que tels.\n",
    "Ceci est explicable d'une part car ce sont les métiers les plus proches au niveau des compétences technologiques, d'autre part, la sous-représentation des Lead data scientists\n",
    "dans le dataset tend à faire diminuer les performances. \n",
    "Il aurait été intéressant de proceder à un rééchantillonnage grace au outils proposés par la librairie imblearn par exemple."
   ]
  },
  {
   "cell_type": "code",
   "execution_count": 44,
   "metadata": {},
   "outputs": [
    {
     "name": "stderr",
     "output_type": "stream",
     "text": [
      "<ipython-input-44-7eabc3733ab9>:8: SettingWithCopyWarning: \n",
      "A value is trying to be set on a copy of a slice from a DataFrame.\n",
      "Try using .loc[row_indexer,col_indexer] = value instead\n",
      "\n",
      "See the caveats in the documentation: https://pandas.pydata.org/pandas-docs/stable/user_guide/indexing.html#returning-a-view-versus-a-copy\n",
      "  df_predictions['Prediction_Metier']= finales_pred\n",
      "C:\\Users\\peyre\\anaconda3\\envs\\appli\\lib\\site-packages\\pandas\\core\\frame.py:4305: SettingWithCopyWarning: \n",
      "A value is trying to be set on a copy of a slice from a DataFrame\n",
      "\n",
      "See the caveats in the documentation: https://pandas.pydata.org/pandas-docs/stable/user_guide/indexing.html#returning-a-view-versus-a-copy\n",
      "  return super().drop(\n"
     ]
    },
    {
     "data": {
      "text/html": [
       "<div>\n",
       "<style scoped>\n",
       "    .dataframe tbody tr th:only-of-type {\n",
       "        vertical-align: middle;\n",
       "    }\n",
       "\n",
       "    .dataframe tbody tr th {\n",
       "        vertical-align: top;\n",
       "    }\n",
       "\n",
       "    .dataframe thead th {\n",
       "        text-align: right;\n",
       "    }\n",
       "</style>\n",
       "<table border=\"1\" class=\"dataframe\">\n",
       "  <thead>\n",
       "    <tr style=\"text-align: right;\">\n",
       "      <th></th>\n",
       "      <th>Entreprise</th>\n",
       "      <th>Technologies</th>\n",
       "      <th>Diplome</th>\n",
       "      <th>Ville</th>\n",
       "      <th>Exp_label</th>\n",
       "      <th>Cluster</th>\n",
       "      <th>Prediction_Metier</th>\n",
       "    </tr>\n",
       "  </thead>\n",
       "  <tbody>\n",
       "    <tr>\n",
       "      <th>346</th>\n",
       "      <td>Jacobs</td>\n",
       "      <td>Python/Spark/GNU/Linux</td>\n",
       "      <td>No diploma</td>\n",
       "      <td>Paris</td>\n",
       "      <td>avancé</td>\n",
       "      <td>1</td>\n",
       "      <td>Data engineer</td>\n",
       "    </tr>\n",
       "    <tr>\n",
       "      <th>2058</th>\n",
       "      <td>Ball Aerospace</td>\n",
       "      <td>VBA/Python/Excel/R</td>\n",
       "      <td>Master</td>\n",
       "      <td>Lyon</td>\n",
       "      <td>Expert</td>\n",
       "      <td>0</td>\n",
       "      <td>Lead data scientist</td>\n",
       "    </tr>\n",
       "    <tr>\n",
       "      <th>2670</th>\n",
       "      <td>eHire, LLC</td>\n",
       "      <td>Java/C/C++/R/Python</td>\n",
       "      <td>Master</td>\n",
       "      <td>Toulouse</td>\n",
       "      <td>Confirmé</td>\n",
       "      <td>1</td>\n",
       "      <td>Data scientist</td>\n",
       "    </tr>\n",
       "    <tr>\n",
       "      <th>2899</th>\n",
       "      <td>Norfolk Southern Corp</td>\n",
       "      <td>Python/Tensorflow/scikit-learn/Deep learning/R</td>\n",
       "      <td>Phd</td>\n",
       "      <td>Grenoble</td>\n",
       "      <td>Débutant</td>\n",
       "      <td>0</td>\n",
       "      <td>Data scientist</td>\n",
       "    </tr>\n",
       "    <tr>\n",
       "      <th>3346</th>\n",
       "      <td>J.E. Ranta Associates</td>\n",
       "      <td>Cassandra/MongoDB/NoSQL/AWS</td>\n",
       "      <td>Master</td>\n",
       "      <td>Rennes</td>\n",
       "      <td>Expert</td>\n",
       "      <td>1</td>\n",
       "      <td>Data architecte</td>\n",
       "    </tr>\n",
       "    <tr>\n",
       "      <th>4248</th>\n",
       "      <td>KPMG</td>\n",
       "      <td>Python/Microsoft Azure/R/SQL</td>\n",
       "      <td>Phd</td>\n",
       "      <td>Lyon</td>\n",
       "      <td>Confirmé</td>\n",
       "      <td>0</td>\n",
       "      <td>Data scientist</td>\n",
       "    </tr>\n",
       "    <tr>\n",
       "      <th>4290</th>\n",
       "      <td>Pandora Media, Inc.</td>\n",
       "      <td>SAS/Teradata/SQL/R/Python/Machine learning/Ang...</td>\n",
       "      <td>Phd</td>\n",
       "      <td>Toulouse</td>\n",
       "      <td>Confirmé</td>\n",
       "      <td>0</td>\n",
       "      <td>Data scientist</td>\n",
       "    </tr>\n",
       "    <tr>\n",
       "      <th>4292</th>\n",
       "      <td>Partners HealthCare(PHS)</td>\n",
       "      <td>SAS/Teradata/SQL/R/Python/Machine learning/Ang...</td>\n",
       "      <td>Master</td>\n",
       "      <td>Bordeaux</td>\n",
       "      <td>Expert</td>\n",
       "      <td>0</td>\n",
       "      <td>Lead data scientist</td>\n",
       "    </tr>\n",
       "    <tr>\n",
       "      <th>5425</th>\n",
       "      <td>Ashton Lane Group</td>\n",
       "      <td>Python/Pyspark/Spark</td>\n",
       "      <td>No diploma</td>\n",
       "      <td>Lyon</td>\n",
       "      <td>Expert</td>\n",
       "      <td>1</td>\n",
       "      <td>Data engineer</td>\n",
       "    </tr>\n",
       "    <tr>\n",
       "      <th>5593</th>\n",
       "      <td>Lighthouse Lab Services</td>\n",
       "      <td>Python/R/machine learning/Excel/VBA/C++</td>\n",
       "      <td>Master</td>\n",
       "      <td>Lyon</td>\n",
       "      <td>avancé</td>\n",
       "      <td>0</td>\n",
       "      <td>Data scientist</td>\n",
       "    </tr>\n",
       "    <tr>\n",
       "      <th>5712</th>\n",
       "      <td>Ball Aerospace</td>\n",
       "      <td>Hadoop/Hive/Vertica/Tableau</td>\n",
       "      <td>Bachelor</td>\n",
       "      <td>Paris</td>\n",
       "      <td>avancé</td>\n",
       "      <td>1</td>\n",
       "      <td>Data architecte</td>\n",
       "    </tr>\n",
       "    <tr>\n",
       "      <th>6024</th>\n",
       "      <td>Leidos</td>\n",
       "      <td>Linux/Python/Hadoop/Perl/Ruby</td>\n",
       "      <td>Master</td>\n",
       "      <td>Lyon</td>\n",
       "      <td>Confirmé</td>\n",
       "      <td>1</td>\n",
       "      <td>Data engineer</td>\n",
       "    </tr>\n",
       "    <tr>\n",
       "      <th>6625</th>\n",
       "      <td>Ball Aerospace</td>\n",
       "      <td>Hadoop/Hive/Vertica/Tableau</td>\n",
       "      <td>No diploma</td>\n",
       "      <td>Paris</td>\n",
       "      <td>Débutant</td>\n",
       "      <td>1</td>\n",
       "      <td>Data architecte</td>\n",
       "    </tr>\n",
       "    <tr>\n",
       "      <th>7091</th>\n",
       "      <td>KPMG</td>\n",
       "      <td>SAS/Teradata/SQL/R/Python/Machine learning/Ang...</td>\n",
       "      <td>Master</td>\n",
       "      <td>Marseille</td>\n",
       "      <td>Débutant</td>\n",
       "      <td>0</td>\n",
       "      <td>Data scientist</td>\n",
       "    </tr>\n",
       "    <tr>\n",
       "      <th>7228</th>\n",
       "      <td>Environmental Defense Fund</td>\n",
       "      <td>Map-Reduce/HDFS/PIG/HBASE/Python/Cassandra</td>\n",
       "      <td>Master</td>\n",
       "      <td>Bordeaux</td>\n",
       "      <td>avancé</td>\n",
       "      <td>1</td>\n",
       "      <td>Data engineer</td>\n",
       "    </tr>\n",
       "    <tr>\n",
       "      <th>7330</th>\n",
       "      <td>Turner</td>\n",
       "      <td>Excel/Python/Matlab/R/machine learning/anglais</td>\n",
       "      <td>Phd</td>\n",
       "      <td>Lyon</td>\n",
       "      <td>Débutant</td>\n",
       "      <td>0</td>\n",
       "      <td>Data scientist</td>\n",
       "    </tr>\n",
       "    <tr>\n",
       "      <th>9087</th>\n",
       "      <td>Klein Hersh International</td>\n",
       "      <td>Hadoop/Hive/Vertica/Tableau</td>\n",
       "      <td>No diploma</td>\n",
       "      <td>Paris</td>\n",
       "      <td>avancé</td>\n",
       "      <td>1</td>\n",
       "      <td>Data architecte</td>\n",
       "    </tr>\n",
       "    <tr>\n",
       "      <th>9427</th>\n",
       "      <td>McKinsey &amp; Company</td>\n",
       "      <td>Python/R/machine learning/Excel/VBA/C++</td>\n",
       "      <td>Master</td>\n",
       "      <td>Marseille</td>\n",
       "      <td>Débutant</td>\n",
       "      <td>0</td>\n",
       "      <td>Data scientist</td>\n",
       "    </tr>\n",
       "    <tr>\n",
       "      <th>9490</th>\n",
       "      <td>Pearson</td>\n",
       "      <td>R/Python/Spark/Pycharm/SAS/SQL</td>\n",
       "      <td>Master</td>\n",
       "      <td>Marseille</td>\n",
       "      <td>Expert</td>\n",
       "      <td>0</td>\n",
       "      <td>Data scientist</td>\n",
       "    </tr>\n",
       "  </tbody>\n",
       "</table>\n",
       "</div>"
      ],
      "text/plain": [
       "                      Entreprise  \\\n",
       "346                       Jacobs   \n",
       "2058              Ball Aerospace   \n",
       "2670                  eHire, LLC   \n",
       "2899       Norfolk Southern Corp   \n",
       "3346       J.E. Ranta Associates   \n",
       "4248                        KPMG   \n",
       "4290         Pandora Media, Inc.   \n",
       "4292    Partners HealthCare(PHS)   \n",
       "5425           Ashton Lane Group   \n",
       "5593     Lighthouse Lab Services   \n",
       "5712              Ball Aerospace   \n",
       "6024                      Leidos   \n",
       "6625              Ball Aerospace   \n",
       "7091                        KPMG   \n",
       "7228  Environmental Defense Fund   \n",
       "7330                      Turner   \n",
       "9087   Klein Hersh International   \n",
       "9427          McKinsey & Company   \n",
       "9490                     Pearson   \n",
       "\n",
       "                                           Technologies     Diplome  \\\n",
       "346                              Python/Spark/GNU/Linux  No diploma   \n",
       "2058                                 VBA/Python/Excel/R      Master   \n",
       "2670                                Java/C/C++/R/Python      Master   \n",
       "2899     Python/Tensorflow/scikit-learn/Deep learning/R         Phd   \n",
       "3346                        Cassandra/MongoDB/NoSQL/AWS      Master   \n",
       "4248                       Python/Microsoft Azure/R/SQL         Phd   \n",
       "4290  SAS/Teradata/SQL/R/Python/Machine learning/Ang...         Phd   \n",
       "4292  SAS/Teradata/SQL/R/Python/Machine learning/Ang...      Master   \n",
       "5425                               Python/Pyspark/Spark  No diploma   \n",
       "5593            Python/R/machine learning/Excel/VBA/C++      Master   \n",
       "5712                        Hadoop/Hive/Vertica/Tableau    Bachelor   \n",
       "6024                      Linux/Python/Hadoop/Perl/Ruby      Master   \n",
       "6625                        Hadoop/Hive/Vertica/Tableau  No diploma   \n",
       "7091  SAS/Teradata/SQL/R/Python/Machine learning/Ang...      Master   \n",
       "7228         Map-Reduce/HDFS/PIG/HBASE/Python/Cassandra      Master   \n",
       "7330     Excel/Python/Matlab/R/machine learning/anglais         Phd   \n",
       "9087                        Hadoop/Hive/Vertica/Tableau  No diploma   \n",
       "9427            Python/R/machine learning/Excel/VBA/C++      Master   \n",
       "9490                     R/Python/Spark/Pycharm/SAS/SQL      Master   \n",
       "\n",
       "          Ville Exp_label  Cluster    Prediction_Metier  \n",
       "346       Paris    avancé        1        Data engineer  \n",
       "2058       Lyon    Expert        0  Lead data scientist  \n",
       "2670   Toulouse  Confirmé        1       Data scientist  \n",
       "2899   Grenoble  Débutant        0       Data scientist  \n",
       "3346     Rennes    Expert        1      Data architecte  \n",
       "4248       Lyon  Confirmé        0       Data scientist  \n",
       "4290   Toulouse  Confirmé        0       Data scientist  \n",
       "4292   Bordeaux    Expert        0  Lead data scientist  \n",
       "5425       Lyon    Expert        1        Data engineer  \n",
       "5593       Lyon    avancé        0       Data scientist  \n",
       "5712      Paris    avancé        1      Data architecte  \n",
       "6024       Lyon  Confirmé        1        Data engineer  \n",
       "6625      Paris  Débutant        1      Data architecte  \n",
       "7091  Marseille  Débutant        0       Data scientist  \n",
       "7228   Bordeaux    avancé        1        Data engineer  \n",
       "7330       Lyon  Débutant        0       Data scientist  \n",
       "9087      Paris    avancé        1      Data architecte  \n",
       "9427  Marseille  Débutant        0       Data scientist  \n",
       "9490  Marseille    Expert        0       Data scientist  "
      ]
     },
     "execution_count": 44,
     "metadata": {},
     "output_type": "execute_result"
    }
   ],
   "source": [
    "# Prédictions des métiers non labelisés\n",
    "\n",
    "finales_pred = grid_clf.predict(df_pred)\n",
    "\n",
    "# Création d'un DataFrame de résultats\n",
    "\n",
    "df_predictions  = df[df['Metier'].isnull()==True]\n",
    "df_predictions['Prediction_Metier']= finales_pred\n",
    "df_predictions.drop('Metier',axis=1, inplace= True)\n",
    "df_predictions.head(19)"
   ]
  },
  {
   "cell_type": "code",
   "execution_count": null,
   "metadata": {},
   "outputs": [],
   "source": []
  }
 ],
 "metadata": {
  "kernelspec": {
   "display_name": "Python 3",
   "language": "python",
   "name": "python3"
  },
  "language_info": {
   "codemirror_mode": {
    "name": "ipython",
    "version": 3
   },
   "file_extension": ".py",
   "mimetype": "text/x-python",
   "name": "python",
   "nbconvert_exporter": "python",
   "pygments_lexer": "ipython3",
   "version": "3.7.9"
  }
 },
 "nbformat": 4,
 "nbformat_minor": 4
}
